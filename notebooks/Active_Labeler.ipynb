{
  "nbformat": 4,
  "nbformat_minor": 0,
  "metadata": {
    "accelerator": "GPU",
    "colab": {
      "name": "[Curator] Active Labeler Colab Guide.ipynb",
      "provenance": [],
      "collapsed_sections": [
        "mvCKKe-KoMVF",
        "3WIdnbJloiIC"
      ],
      "include_colab_link": true
    },
    "kernelspec": {
      "display_name": "Python 3",
      "name": "python3"
    },
    "language_info": {
      "name": "python"
    }
  },
  "cells": [
    {
      "cell_type": "markdown",
      "metadata": {
        "id": "view-in-github",
        "colab_type": "text"
      },
      "source": [
        "<a href=\"https://colab.research.google.com/github/spaceml-org/Curator-Unlabeled-Image-Search-Guide/blob/main/notebooks/Active_Labeler.ipynb\" target=\"_parent\"><img src=\"https://colab.research.google.com/assets/colab-badge.svg\" alt=\"Open In Colab\"/></a>"
      ]
    },
    {
      "cell_type": "markdown",
      "metadata": {
        "id": "rYz_LAx9VjOD"
      },
      "source": [
        "This demo will demonstrate how to use a pretrained self-supervised model with the active labeler's command-line interface. We used [RESISC45](https://www.tensorflow.org/datasets/catalog/resisc45) in this demo. Although RESISC45 has labels, we first set up the dataset as an unlabeled dataset to demonstrate how to use unlabeled datasets in this pipeline.\n",
        "\n",
        "\n"
      ]
    },
    {
      "cell_type": "markdown",
      "metadata": {
        "id": "N95ODse9v8LY"
      },
      "source": [
        "# 1. Setup"
      ]
    },
    {
      "cell_type": "markdown",
      "metadata": {
        "id": "mvCKKe-KoMVF"
      },
      "source": [
        "## 1.1 Installing packages & Active Labeler"
      ]
    },
    {
      "cell_type": "code",
      "metadata": {
        "id": "TLlUzFfZobFH"
      },
      "source": [
        "%cd \"/content\"\n",
        "import os\n",
        "import shutil\n",
        "if os.path.exists('/content/Active-Labeler'):\n",
        "  shutil.rmtree('/content/Active-Labeler')\n",
        "\n",
        "!git clone https://github.com/spaceml-org/Active-Labeler.git"
      ],
      "execution_count": null,
      "outputs": []
    },
    {
      "cell_type": "code",
      "metadata": {
        "id": "5N8vGuClroyL"
      },
      "source": [
        "!pip install -r /content/Active-Labeler/requirements.txt"
      ],
      "execution_count": null,
      "outputs": []
    },
    {
      "cell_type": "code",
      "metadata": {
        "id": "VYNeqYbx0zQ9"
      },
      "source": [
        "!pip install --extra-index-url https://developer.download.nvidia.com/compute/redist nvidia-dali-cuda100"
      ],
      "execution_count": null,
      "outputs": []
    },
    {
      "cell_type": "markdown",
      "metadata": {
        "id": "3WIdnbJloiIC"
      },
      "source": [
        "## 1.2 Setting up dataset and SSL model"
      ]
    },
    {
      "cell_type": "code",
      "metadata": {
        "id": "LUC0xuMRxunq"
      },
      "source": [
        "import os\n",
        "import shutil\n",
        "import pathlib\n",
        "from pathlib import Path\n",
        "from imutils import paths"
      ],
      "execution_count": null,
      "outputs": []
    },
    {
      "cell_type": "code",
      "metadata": {
        "id": "D2a0NEqvohUf"
      },
      "source": [
        "if os.path.exists(\"/content/RESISC45\"):\n",
        "  shutil.rmtree(\"/content/RESISC45\")\n",
        "\n",
        "!gdown https://drive.google.com/uc?id=14zEhqi9mczZaLEb33TQuKbhmurn2ClGL&export=download\n",
        "!unrar x /content/RESISC45.rar\n",
        "!mv NWPU-RESISC45/ RESISC45/\n",
        "!rm -rf /content/RESISC45.rar\n",
        " \n",
        "folder = '/content/Dataset/Unlabeled'\n",
        "if os.path.exists(folder):\n",
        "    shutil.rmtree(folder)\n",
        "\n",
        "pathlib.Path(folder).mkdir(parents=True, exist_ok=True)\n",
        "\n",
        "for i in paths.list_images('/content/RESISC45'):\n",
        "  shutil.copy(i,os.path.join(folder,i.split('/')[-1]))"
      ],
      "execution_count": null,
      "outputs": []
    },
    {
      "cell_type": "code",
      "metadata": {
        "id": "6coB66cJpzUQ"
      },
      "source": [
        "from imutils import paths\n",
        "list(paths.list_images(\"/content/runtime/swipe/archive\"))"
      ],
      "execution_count": null,
      "outputs": []
    },
    {
      "cell_type": "code",
      "metadata": {
        "id": "Ca2XO-HIrE0A"
      },
      "source": [
        "!gdown https://drive.google.com/uc?id=1h2rm2SrcsqBXoxoHqzseuKtQfX3EVj-8"
      ],
      "execution_count": null,
      "outputs": []
    },
    {
      "cell_type": "markdown",
      "metadata": {
        "id": "0znJLvfowAjM"
      },
      "source": [
        "# 2. Active Labeler CLI Tool"
      ]
    },
    {
      "cell_type": "markdown",
      "metadata": {
        "id": "haBxHicQe-hh"
      },
      "source": [
        "## 2-1. Changing config files"
      ]
    },
    {
      "cell_type": "markdown",
      "metadata": {
        "id": "bWX_6zePWGvL"
      },
      "source": [
        "The code cell below will change *model_config.yaml* file and *pipeline_config.yml* file so that the CLI tool runs on Colab. If you want to run it on your local device, you will have to manually change the config files. The main changes are the location of the SSL model and the refrence image along with model's embedding size. "
      ]
    },
    {
      "cell_type": "code",
      "metadata": {
        "id": "S-PoeAFkrzd0"
      },
      "source": [
        "# Edit the config files\n",
        "import yaml\n",
        "\n",
        "with open(\"/content/Active-Labeler/model_config.yaml\") as f:\n",
        "     list_doc = yaml.safe_load(f)\n",
        "\n",
        "list_doc[\"encoder\"][\"encoder_path\"] = \"/content/RESISC45-imagenet_resnet18.ckpt\"\n",
        "list_doc[\"encoder\"][\"e_embedding_size\"] = 512\n",
        "\n",
        "with open(\"/content/Active-Labeler/model_config.yaml\", \"w\") as f:\n",
        "    yaml.dump(list_doc, f, default_flow_style=False)\n",
        "\n",
        "\n",
        "with open(\"/content/Active-Labeler/pipeline_config.yaml\") as f:\n",
        "     list_doc = yaml.safe_load(f)\n",
        "\n",
        "list_doc[\"model\"][\"model_path\"] = \"/content/RESISC45-imagenet_resnet18.ckpt\"\n",
        "list_doc[\"model\"][\"embedding_size\"] = 512\n",
        "list_doc[\"seed_dataset\"][\"ref_img_path\"] = \"/content/RESISC45/airplane/airplane_001.jpg\"\n",
        "\n",
        "with open(\"/content/Active-Labeler/pipeline_config.yaml\", \"w\") as f:\n",
        "    yaml.dump(list_doc, f, default_flow_style=False)"
      ],
      "execution_count": null,
      "outputs": []
    },
    {
      "cell_type": "markdown",
      "metadata": {
        "id": "zpy-APeBfKqV"
      },
      "source": [
        "## 2-2. Running Active Labeler"
      ]
    },
    {
      "cell_type": "markdown",
      "metadata": {
        "id": "t-0pqVkOWxIQ"
      },
      "source": [
        "Once you run the cell below, you'll get a URL for labeling images. \n",
        "\n",
        "**Note**: This link only works on Colab. If you are running the CLI tool on your local device, you will get a different link (http://0.0.0.0:5000/) after you run the CLI command. Use that link for your local device."
      ]
    },
    {
      "cell_type": "code",
      "metadata": {
        "id": "ENf2bYkT3S8I"
      },
      "source": [
        "from google.colab.output import eval_js\n",
        "print(eval_js(\"google.colab.kernel.proxyPort(5000)\"))"
      ],
      "execution_count": null,
      "outputs": []
    },
    {
      "cell_type": "code",
      "metadata": {
        "id": "5QoB5B5rtPGD"
      },
      "source": [
        "!python3 /content/Active-Labeler/main.py --config_path /content/Active-Labeler/pipeline_config.yaml"
      ],
      "execution_count": null,
      "outputs": []
    }
  ]
}